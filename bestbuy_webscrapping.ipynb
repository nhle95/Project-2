{
 "cells": [
  {
   "cell_type": "code",
   "execution_count": 22,
   "id": "86dfdaca",
   "metadata": {},
   "outputs": [],
   "source": [
    "# Dependencies\n",
    "from bs4 import BeautifulSoup\n",
    "import requests\n",
    "import pymongo\n",
    "import cloudscraper\n"
   ]
  },
  {
   "cell_type": "code",
   "execution_count": 3,
   "id": "8dd3e07b",
   "metadata": {},
   "outputs": [],
   "source": [
    "# Initialize PyMongo to work with MongoDBs\n",
    "conn = 'mongodb://localhost:27017'\n",
    "client = pymongo.MongoClient(conn)"
   ]
  },
  {
   "cell_type": "code",
   "execution_count": 24,
   "id": "db19b059",
   "metadata": {},
   "outputs": [],
   "source": [
    "# URL of page to be scraped\n",
    "url = 'https://www.bestbuy.com/site/computer-cards-components/video-graphics-cards/abcat0507002.c?id=abcat0507002'\n",
    "headers = {'User-Agent': 'Mozilla/5.0 (Windows NT 10.0; Win64; x64) AppleWebKit/537.36 (KHTML, like Gecko) Chrome/106.0.0.0 Safari/537.36'}\n",
    "scraper = cloudscraper.create_scraper()\n",
    "# Retrieve page with the requests module\n",
    "response = requests.get(url,headers=headers)\n",
    "# Create BeautifulSoup object; parse with html\n",
    "soup = BeautifulSoup(response.text, 'html.parser')"
   ]
  },
  {
   "cell_type": "code",
   "execution_count": 34,
   "id": "d18a91ce",
   "metadata": {},
   "outputs": [],
   "source": [
    "results = soup.find_all('div', class_='priceView-hero-price priceView-customer-price')\n"
   ]
  },
  {
   "cell_type": "code",
   "execution_count": 44,
   "id": "abd187c3",
   "metadata": {},
   "outputs": [
    {
     "data": {
      "text/plain": [
       "'$229.99'"
      ]
     },
     "execution_count": 44,
     "metadata": {},
     "output_type": "execute_result"
    }
   ],
   "source": [
    "results[0].span.text"
   ]
  },
  {
   "cell_type": "code",
   "execution_count": null,
   "id": "45ad138d",
   "metadata": {},
   "outputs": [],
   "source": []
  }
 ],
 "metadata": {
  "kernelspec": {
   "display_name": "Python 3 (ipykernel)",
   "language": "python",
   "name": "python3"
  },
  "language_info": {
   "codemirror_mode": {
    "name": "ipython",
    "version": 3
   },
   "file_extension": ".py",
   "mimetype": "text/x-python",
   "name": "python",
   "nbconvert_exporter": "python",
   "pygments_lexer": "ipython3",
   "version": "3.9.12"
  }
 },
 "nbformat": 4,
 "nbformat_minor": 5
}
